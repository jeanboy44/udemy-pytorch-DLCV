{
 "cells": [
  {
   "cell_type": "code",
   "execution_count": 1,
   "id": "c974ba6d",
   "metadata": {},
   "outputs": [],
   "source": [
    "import torch\n",
    "import numpy as np"
   ]
  },
  {
   "cell_type": "markdown",
   "id": "af2e92c8",
   "metadata": {},
   "source": [
    "# 1. Tensors"
   ]
  },
  {
   "cell_type": "markdown",
   "id": "f9b957e2",
   "metadata": {},
   "source": [
    "# Dimensional Tensors"
   ]
  },
  {
   "cell_type": "code",
   "execution_count": 2,
   "id": "376a63d8",
   "metadata": {},
   "outputs": [
    {
     "name": "stdout",
     "output_type": "stream",
     "text": [
      "tensor([2, 3, 4])\n"
     ]
    }
   ],
   "source": [
    "v = torch.tensor([1,2,3,4,5,6])\n",
    "print(v[1:4])"
   ]
  },
  {
   "cell_type": "code",
   "execution_count": 3,
   "id": "f0aa909c",
   "metadata": {},
   "outputs": [
    {
     "name": "stdout",
     "output_type": "stream",
     "text": [
      "torch.Size([6])\n"
     ]
    }
   ],
   "source": [
    "f = torch.FloatTensor([1,2,3,4,5,6])\n",
    "print(f.size())"
   ]
  },
  {
   "cell_type": "code",
   "execution_count": 4,
   "id": "c67c9e1f",
   "metadata": {},
   "outputs": [
    {
     "data": {
      "text/plain": [
       "tensor([[1],\n",
       "        [2],\n",
       "        [3],\n",
       "        [4],\n",
       "        [5],\n",
       "        [6]])"
      ]
     },
     "execution_count": 4,
     "metadata": {},
     "output_type": "execute_result"
    }
   ],
   "source": [
    "v.view(6,1) # 원래 값과 같은 차원이어야 함"
   ]
  },
  {
   "cell_type": "code",
   "execution_count": 10,
   "id": "579a83f6",
   "metadata": {},
   "outputs": [
    {
     "ename": "RuntimeError",
     "evalue": "shape '[5, 1]' is invalid for input of size 6",
     "output_type": "error",
     "traceback": [
      "\u001b[0;31m---------------------------------------------------------------------------\u001b[0m",
      "\u001b[0;31mRuntimeError\u001b[0m                              Traceback (most recent call last)",
      "Input \u001b[0;32mIn [10]\u001b[0m, in \u001b[0;36m<cell line: 1>\u001b[0;34m()\u001b[0m\n\u001b[0;32m----> 1\u001b[0m \u001b[43mv\u001b[49m\u001b[38;5;241;43m.\u001b[39;49m\u001b[43mview\u001b[49m\u001b[43m(\u001b[49m\u001b[38;5;241;43m5\u001b[39;49m\u001b[43m,\u001b[49m\u001b[38;5;241;43m1\u001b[39;49m\u001b[43m)\u001b[49m\n",
      "\u001b[0;31mRuntimeError\u001b[0m: shape '[5, 1]' is invalid for input of size 6"
     ]
    }
   ],
   "source": [
    "v.view(5,1) # Error"
   ]
  },
  {
   "cell_type": "code",
   "execution_count": 13,
   "id": "343d2318",
   "metadata": {},
   "outputs": [
    {
     "data": {
      "text/plain": [
       "tensor([[1, 2],\n",
       "        [3, 4],\n",
       "        [5, 6]])"
      ]
     },
     "execution_count": 13,
     "metadata": {},
     "output_type": "execute_result"
    }
   ],
   "source": [
    "v.view(3,2) # 원래 값과 같은 차원이어야 함"
   ]
  },
  {
   "cell_type": "code",
   "execution_count": 12,
   "id": "e038257f",
   "metadata": {},
   "outputs": [
    {
     "data": {
      "text/plain": [
       "tensor([[1, 2],\n",
       "        [3, 4],\n",
       "        [5, 6]])"
      ]
     },
     "execution_count": 12,
     "metadata": {},
     "output_type": "execute_result"
    }
   ],
   "source": [
    "v.view(3,-1) # -1을 입력할 경우, 값을 알아서 채워줌"
   ]
  },
  {
   "cell_type": "markdown",
   "id": "3b7e38d1",
   "metadata": {},
   "source": [
    "## Numpy - Torch 변환"
   ]
  },
  {
   "cell_type": "code",
   "execution_count": 6,
   "id": "3d6906ed",
   "metadata": {},
   "outputs": [
    {
     "name": "stdout",
     "output_type": "stream",
     "text": [
      "tensor([1, 2, 3, 4, 5])\n",
      "torch.LongTensor\n"
     ]
    }
   ],
   "source": [
    "a = np.array([1,2,3,4,5])\n",
    "tensor_cnv = torch.from_numpy(a)\n",
    "print(tensor_cnv)\n",
    "print(tensor_cnv.type())"
   ]
  },
  {
   "cell_type": "code",
   "execution_count": 8,
   "id": "cf9fedde",
   "metadata": {},
   "outputs": [
    {
     "name": "stdout",
     "output_type": "stream",
     "text": [
      "[1 2 3 4 5]\n"
     ]
    }
   ],
   "source": [
    "numpy_cnv  = tensor_cnv.numpy()\n",
    "print(numpy_cnv)"
   ]
  },
  {
   "cell_type": "markdown",
   "id": "f5d2c5ac",
   "metadata": {},
   "source": [
    "# 2. Vector Operations"
   ]
  },
  {
   "cell_type": "code",
   "execution_count": 20,
   "id": "6a6ca9c7",
   "metadata": {},
   "outputs": [
    {
     "name": "stdout",
     "output_type": "stream",
     "text": [
      "tensor([2, 4, 6])\n",
      "tensor([1, 4, 9])\n",
      "tensor(14)\n"
     ]
    }
   ],
   "source": [
    "t_one = torch.tensor([1,2,3])\n",
    "t_two= torch.tensor([1,2,3])\n",
    "dot_product = torch.dot(t_one, t_two)\n",
    "\n",
    "print(t_one + t_two)\n",
    "print(t_one * t_two)\n",
    "print(dot_product)"
   ]
  },
  {
   "cell_type": "code",
   "execution_count": 22,
   "id": "222e8273",
   "metadata": {},
   "outputs": [
    {
     "name": "stderr",
     "output_type": "stream",
     "text": [
      "/var/folders/0_/7nng3dk94db81flkq5mljn_00000gn/T/ipykernel_6814/1619988884.py:1: UserWarning: Not providing a value for linspace's steps is deprecated and will throw a runtime error in a future release. This warning will appear only once per process. (Triggered internally at  ../aten/src/ATen/native/RangeFactories.cpp:23.)\n",
      "  torch.linspace(0, 10)\n"
     ]
    },
    {
     "data": {
      "text/plain": [
       "tensor([ 0.0000,  0.1010,  0.2020,  0.3030,  0.4040,  0.5051,  0.6061,  0.7071,\n",
       "         0.8081,  0.9091,  1.0101,  1.1111,  1.2121,  1.3131,  1.4141,  1.5152,\n",
       "         1.6162,  1.7172,  1.8182,  1.9192,  2.0202,  2.1212,  2.2222,  2.3232,\n",
       "         2.4242,  2.5253,  2.6263,  2.7273,  2.8283,  2.9293,  3.0303,  3.1313,\n",
       "         3.2323,  3.3333,  3.4343,  3.5354,  3.6364,  3.7374,  3.8384,  3.9394,\n",
       "         4.0404,  4.1414,  4.2424,  4.3434,  4.4444,  4.5455,  4.6465,  4.7475,\n",
       "         4.8485,  4.9495,  5.0505,  5.1515,  5.2525,  5.3535,  5.4545,  5.5556,\n",
       "         5.6566,  5.7576,  5.8586,  5.9596,  6.0606,  6.1616,  6.2626,  6.3636,\n",
       "         6.4646,  6.5657,  6.6667,  6.7677,  6.8687,  6.9697,  7.0707,  7.1717,\n",
       "         7.2727,  7.3737,  7.4747,  7.5758,  7.6768,  7.7778,  7.8788,  7.9798,\n",
       "         8.0808,  8.1818,  8.2828,  8.3838,  8.4848,  8.5859,  8.6869,  8.7879,\n",
       "         8.8889,  8.9899,  9.0909,  9.1919,  9.2929,  9.3939,  9.4950,  9.5960,\n",
       "         9.6970,  9.7980,  9.8990, 10.0000])"
      ]
     },
     "execution_count": 22,
     "metadata": {},
     "output_type": "execute_result"
    }
   ],
   "source": [
    "torch.linspace(0, 10) # 0 ~ 10 사이의 같은 간격의 값을 출력"
   ]
  },
  {
   "cell_type": "code",
   "execution_count": null,
   "id": "c2b80b9a",
   "metadata": {},
   "outputs": [],
   "source": []
  }
 ],
 "metadata": {
  "kernelspec": {
   "display_name": "Python 3 (ipykernel)",
   "language": "python",
   "name": "python3"
  },
  "language_info": {
   "codemirror_mode": {
    "name": "ipython",
    "version": 3
   },
   "file_extension": ".py",
   "mimetype": "text/x-python",
   "name": "python",
   "nbconvert_exporter": "python",
   "pygments_lexer": "ipython3",
   "version": "3.8.12"
  }
 },
 "nbformat": 4,
 "nbformat_minor": 5
}
