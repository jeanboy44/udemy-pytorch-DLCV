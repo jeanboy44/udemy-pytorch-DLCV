{
 "cells": [
  {
   "cell_type": "code",
   "execution_count": 1,
   "id": "a546eafe",
   "metadata": {},
   "outputs": [],
   "source": [
    "import torch"
   ]
  },
  {
   "cell_type": "markdown",
   "id": "c35479f0",
   "metadata": {},
   "source": [
    "# 1. Making Predictions"
   ]
  },
  {
   "cell_type": "code",
   "execution_count": 2,
   "id": "03bd4089",
   "metadata": {},
   "outputs": [],
   "source": [
    "## w, b : parameters\n",
    "w = torch.tensor(3.0, requires_grad = True)\n",
    "b = torch.tensor(1.0, requires_grad = True)"
   ]
  },
  {
   "cell_type": "code",
   "execution_count": 3,
   "id": "80db8f7a",
   "metadata": {},
   "outputs": [],
   "source": [
    "# forward 함수 ~= 모델 아키텍쳐\n",
    "def forward(x):\n",
    "    y = w*x + b\n",
    "    return y"
   ]
  },
  {
   "cell_type": "code",
   "execution_count": 4,
   "id": "a62025e2",
   "metadata": {},
   "outputs": [
    {
     "data": {
      "text/plain": [
       "tensor([[13.],\n",
       "        [22.]], grad_fn=<AddBackward0>)"
      ]
     },
     "execution_count": 4,
     "metadata": {},
     "output_type": "execute_result"
    }
   ],
   "source": [
    "x = torch.tensor([[4],[7]])\n",
    "forward(x) # prints y"
   ]
  },
  {
   "cell_type": "markdown",
   "id": "d2f4f101",
   "metadata": {},
   "source": [
    "# 2. Linear Class"
   ]
  },
  {
   "cell_type": "code",
   "execution_count": 5,
   "id": "a96bf696",
   "metadata": {},
   "outputs": [],
   "source": [
    "import torch\n",
    "from torch.nn import Linear"
   ]
  },
  {
   "cell_type": "code",
   "execution_count": 6,
   "id": "4cae268f",
   "metadata": {},
   "outputs": [
    {
     "name": "stdout",
     "output_type": "stream",
     "text": [
      "Parameter containing:\n",
      "tensor([-0.4414], requires_grad=True) Parameter containing:\n",
      "tensor([[0.5153]], requires_grad=True)\n"
     ]
    }
   ],
   "source": [
    "torch.manual_seed(1) # random value 생성을 위한 seed\n",
    "model = Linear(in_features=1, out_features=1)\n",
    "print(model.bias, model.weight)"
   ]
  },
  {
   "cell_type": "code",
   "execution_count": 7,
   "id": "d0bd0695",
   "metadata": {},
   "outputs": [
    {
     "data": {
      "text/plain": [
       "tensor([[0.0739],\n",
       "        [0.8468]], grad_fn=<AddmmBackward0>)"
      ]
     },
     "execution_count": 7,
     "metadata": {},
     "output_type": "execute_result"
    }
   ],
   "source": [
    "x = torch.tensor([[1],[2.5]]) # input\n",
    "model(x)"
   ]
  },
  {
   "cell_type": "markdown",
   "id": "4bcbd44e",
   "metadata": {},
   "source": [
    "# 3. Fit Linear Model"
   ]
  },
  {
   "cell_type": "markdown",
   "id": "9ccebfdf",
   "metadata": {},
   "source": [
    "## Linear Class"
   ]
  },
  {
   "cell_type": "code",
   "execution_count": 8,
   "id": "4e3683a8",
   "metadata": {},
   "outputs": [],
   "source": [
    "import torch\n",
    "import torch.nn as nn"
   ]
  },
  {
   "cell_type": "code",
   "execution_count": 9,
   "id": "8b313722",
   "metadata": {},
   "outputs": [],
   "source": [
    "class LR(nn.Module): # nn.Module 은 pytorch의 모든 모듈의 베이스 클래스임\n",
    "    def __init__(self, input_size, output_size):\n",
    "        super().__init__() # Initialize nn.Module\n",
    "        self.linear = nn.Linear(input_size, output_size)\n",
    "        \n",
    "    def forward(self, x):\n",
    "        pred = self.linear(x)\n",
    "        return pred"
   ]
  },
  {
   "cell_type": "code",
   "execution_count": 10,
   "id": "e26a0585",
   "metadata": {},
   "outputs": [
    {
     "name": "stdout",
     "output_type": "stream",
     "text": [
      "[Parameter containing:\n",
      "tensor([[0.5153]], requires_grad=True), Parameter containing:\n",
      "tensor([-0.4414], requires_grad=True)]\n"
     ]
    }
   ],
   "source": [
    "torch.manual_seed(1)\n",
    "model = LR(input_size=1, output_size=1)\n",
    "print(list(model.parameters()))"
   ]
  },
  {
   "cell_type": "code",
   "execution_count": 11,
   "id": "15f34687",
   "metadata": {},
   "outputs": [
    {
     "data": {
      "text/plain": [
       "tensor([[0.0739],\n",
       "        [0.5891]], grad_fn=<AddmmBackward0>)"
      ]
     },
     "execution_count": 11,
     "metadata": {},
     "output_type": "execute_result"
    }
   ],
   "source": [
    "x = torch.tensor([[1.0], [2.0]])\n",
    "model.forward(x)"
   ]
  },
  {
   "cell_type": "markdown",
   "id": "27d07959",
   "metadata": {},
   "source": [
    "## Create Dataset"
   ]
  },
  {
   "cell_type": "code",
   "execution_count": 12,
   "id": "5c9824e0",
   "metadata": {},
   "outputs": [],
   "source": [
    "import torch\n",
    "import numpy as np\n",
    "import matplotlib.pyplot as plt"
   ]
  },
  {
   "cell_type": "code",
   "execution_count": 13,
   "id": "aaadcded",
   "metadata": {},
   "outputs": [
    {
     "data": {
      "text/plain": [
       "Text(0, 0.5, 'y')"
      ]
     },
     "execution_count": 13,
     "metadata": {},
     "output_type": "execute_result"
    },
    {
     "data": {
      "image/png": "[encoded data removed]",
      "text/plain": [
       "<Figure size 432x288 with 1 Axes>"
      ]
     },
     "metadata": {
      "needs_background": "light"
     },
     "output_type": "display_data"
    }
   ],
   "source": [
    "x = torch.randn(100, 1) * 10\n",
    "y = x + torch.randn(100,1) * 3\n",
    "plt.plot(x,y, 'o')\n",
    "plt.xlabel(\"x\")\n",
    "plt.ylabel(\"y\")"
   ]
  },
  {
   "cell_type": "markdown",
   "id": "9affd59d",
   "metadata": {},
   "source": [
    "## Plot Initial Model"
   ]
  },
  {
   "cell_type": "code",
   "execution_count": 60,
   "id": "35c11448",
   "metadata": {},
   "outputs": [],
   "source": [
    "class LR(nn.Module): # nn.Module 은 pytorch의 모든 모듈의 베이스 클래스임\n",
    "    def __init__(self, input_size, output_size):\n",
    "        super().__init__() # Initialize nn.Module\n",
    "        self.linear = nn.Linear(input_size, output_size)\n",
    "        \n",
    "    def forward(self, x):\n",
    "        pred = self.linear(x)\n",
    "        return pred\n",
    "    \n",
    "    def reset_parameters(self):\n",
    "        self.linear.reset_parameters()"
   ]
  },
  {
   "cell_type": "code",
   "execution_count": 61,
   "id": "cb068179",
   "metadata": {},
   "outputs": [
    {
     "name": "stdout",
     "output_type": "stream",
     "text": [
      "LR(\n",
      "  (linear): Linear(in_features=1, out_features=1, bias=True)\n",
      ")\n"
     ]
    }
   ],
   "source": [
    "torch.manual_seed(1)\n",
    "model = LR(1,1)\n",
    "print(model)"
   ]
  },
  {
   "cell_type": "code",
   "execution_count": 62,
   "id": "f51a1165",
   "metadata": {},
   "outputs": [],
   "source": [
    "[w, b] = model.parameters()\n",
    "def get_params():\n",
    "    return (w[0][0].item(), b[0].item())"
   ]
  },
  {
   "cell_type": "code",
   "execution_count": 63,
   "id": "dfc2e266",
   "metadata": {},
   "outputs": [],
   "source": [
    "def plot_fit(title):\n",
    "    plt.title = title\n",
    "    w1, b1 = get_params()\n",
    "    x1 = np.array([-30, 30])\n",
    "    y1 = w1*x1 + b1\n",
    "    plt.plot(x1, y1, \"r\")\n",
    "    plt.scatter(x, y)\n",
    "    plt.show()"
   ]
  },
  {
   "cell_type": "code",
   "execution_count": 65,
   "id": "f8685758",
   "metadata": {},
   "outputs": [
    {
     "data": {
      "image/png": "[encoded data removed]",
      "text/plain": [
       "<Figure size 432x288 with 1 Axes>"
      ]
     },
     "metadata": {
      "needs_background": "light"
     },
     "output_type": "display_data"
    }
   ],
   "source": [
    "plot_fit(\"Initial model\")"
   ]
  },
  {
   "cell_type": "markdown",
   "id": "bedd2ecb",
   "metadata": {},
   "source": [
    "## Training"
   ]
  },
  {
   "cell_type": "code",
   "execution_count": 70,
   "id": "1185e342",
   "metadata": {},
   "outputs": [],
   "source": [
    "model.reset_parameters()\n",
    "criterion = nn.MSELoss()\n",
    "optimizer = torch.optim.SGD(model.parameters(), lr=0.001) # GD는 한번 업데이트를 위해 모든 샘플을 사용해야함. SGD는 한번 업데이트를 위해 하나의 샘플 사용(계산효율적)"
   ]
  },
  {
   "cell_type": "code",
   "execution_count": 71,
   "id": "b9d48f2b",
   "metadata": {
    "scrolled": true
   },
   "outputs": [
    {
     "name": "stdout",
     "output_type": "stream",
     "text": [
      "epoch: 0, loss: 426.7626037597656\n",
      "epoch: 1, loss: 267.881103515625\n",
      "epoch: 2, loss: 169.38726806640625\n",
      "epoch: 3, loss: 108.3287124633789\n",
      "epoch: 4, loss: 70.47697448730469\n",
      "epoch: 5, loss: 47.01150894165039\n",
      "epoch: 6, loss: 32.46434783935547\n",
      "epoch: 7, loss: 23.44580078125\n",
      "epoch: 8, loss: 17.854530334472656\n",
      "epoch: 9, loss: 14.38789176940918\n",
      "epoch: 10, loss: 12.238348007202148\n",
      "epoch: 11, loss: 10.905299186706543\n",
      "epoch: 12, loss: 10.078410148620605\n",
      "epoch: 13, loss: 9.565299034118652\n",
      "epoch: 14, loss: 9.246705055236816\n",
      "epoch: 15, loss: 9.048701286315918\n",
      "epoch: 16, loss: 8.925451278686523\n",
      "epoch: 17, loss: 8.848548889160156\n",
      "epoch: 18, loss: 8.800374984741211\n",
      "epoch: 19, loss: 8.770015716552734\n",
      "epoch: 20, loss: 8.750702857971191\n",
      "epoch: 21, loss: 8.738237380981445\n",
      "epoch: 22, loss: 8.73001766204834\n",
      "epoch: 23, loss: 8.724435806274414\n",
      "epoch: 24, loss: 8.720488548278809\n",
      "epoch: 25, loss: 8.71755599975586\n",
      "epoch: 26, loss: 8.715255737304688\n",
      "epoch: 27, loss: 8.713347434997559\n",
      "epoch: 28, loss: 8.711688041687012\n",
      "epoch: 29, loss: 8.710180282592773\n",
      "epoch: 30, loss: 8.708770751953125\n",
      "epoch: 31, loss: 8.707425117492676\n",
      "epoch: 32, loss: 8.706117630004883\n",
      "epoch: 33, loss: 8.704837799072266\n",
      "epoch: 34, loss: 8.70357608795166\n",
      "epoch: 35, loss: 8.7023286819458\n",
      "epoch: 36, loss: 8.701091766357422\n",
      "epoch: 37, loss: 8.699860572814941\n",
      "epoch: 38, loss: 8.698638916015625\n",
      "epoch: 39, loss: 8.69742202758789\n",
      "epoch: 40, loss: 8.696209907531738\n",
      "epoch: 41, loss: 8.6950044631958\n",
      "epoch: 42, loss: 8.693803787231445\n",
      "epoch: 43, loss: 8.692606925964355\n",
      "epoch: 44, loss: 8.691415786743164\n",
      "epoch: 45, loss: 8.690228462219238\n",
      "epoch: 46, loss: 8.689047813415527\n",
      "epoch: 47, loss: 8.687870025634766\n",
      "epoch: 48, loss: 8.686697959899902\n",
      "epoch: 49, loss: 8.685528755187988\n",
      "epoch: 50, loss: 8.684366226196289\n",
      "epoch: 51, loss: 8.683208465576172\n",
      "epoch: 52, loss: 8.682051658630371\n",
      "epoch: 53, loss: 8.680903434753418\n",
      "epoch: 54, loss: 8.679758071899414\n",
      "epoch: 55, loss: 8.678617477416992\n",
      "epoch: 56, loss: 8.677480697631836\n",
      "epoch: 57, loss: 8.676348686218262\n",
      "epoch: 58, loss: 8.67522144317627\n",
      "epoch: 59, loss: 8.674098014831543\n",
      "epoch: 60, loss: 8.672980308532715\n",
      "epoch: 61, loss: 8.671865463256836\n",
      "epoch: 62, loss: 8.670756340026855\n",
      "epoch: 63, loss: 8.66965103149414\n",
      "epoch: 64, loss: 8.668549537658691\n",
      "epoch: 65, loss: 8.667451858520508\n",
      "epoch: 66, loss: 8.666358947753906\n",
      "epoch: 67, loss: 8.665270805358887\n",
      "epoch: 68, loss: 8.66418743133545\n",
      "epoch: 69, loss: 8.663106918334961\n",
      "epoch: 70, loss: 8.662032127380371\n",
      "epoch: 71, loss: 8.660961151123047\n",
      "epoch: 72, loss: 8.659893035888672\n",
      "epoch: 73, loss: 8.658829689025879\n",
      "epoch: 74, loss: 8.657772064208984\n",
      "epoch: 75, loss: 8.656717300415039\n",
      "epoch: 76, loss: 8.65566635131836\n",
      "epoch: 77, loss: 8.654621124267578\n",
      "epoch: 78, loss: 8.65357780456543\n",
      "epoch: 79, loss: 8.652539253234863\n",
      "epoch: 80, loss: 8.651505470275879\n",
      "epoch: 81, loss: 8.650476455688477\n",
      "epoch: 82, loss: 8.649450302124023\n",
      "epoch: 83, loss: 8.648427963256836\n",
      "epoch: 84, loss: 8.647409439086914\n",
      "epoch: 85, loss: 8.64639663696289\n",
      "epoch: 86, loss: 8.645384788513184\n",
      "epoch: 87, loss: 8.644380569458008\n",
      "epoch: 88, loss: 8.643377304077148\n",
      "epoch: 89, loss: 8.642378807067871\n",
      "epoch: 90, loss: 8.641385078430176\n",
      "epoch: 91, loss: 8.640395164489746\n",
      "epoch: 92, loss: 8.639408111572266\n",
      "epoch: 93, loss: 8.638425827026367\n",
      "epoch: 94, loss: 8.637447357177734\n",
      "epoch: 95, loss: 8.63647174835205\n",
      "epoch: 96, loss: 8.63550090789795\n",
      "epoch: 97, loss: 8.634532928466797\n",
      "epoch: 98, loss: 8.633569717407227\n",
      "epoch: 99, loss: 8.632611274719238\n"
     ]
    }
   ],
   "source": [
    "epochs = 100\n",
    "losses = []\n",
    "for i in range(epochs):\n",
    "    y_pred = model.forward(x)\n",
    "    loss = criterion(y_pred, y)\n",
    "    print(f\"epoch: {i}, loss: {loss.item()}\")\n",
    "\n",
    "    losses.append(loss.item())\n",
    "    optimizer.zero_grad() # set gradients zero\n",
    "    loss.backward() # Compute derivative\n",
    "    optimizer.step() # Update parameter"
   ]
  },
  {
   "cell_type": "code",
   "execution_count": 72,
   "id": "0b5fae11",
   "metadata": {},
   "outputs": [
    {
     "data": {
      "text/plain": [
       "Text(0.5, 0, 'Epoch')"
      ]
     },
     "execution_count": 72,
     "metadata": {},
     "output_type": "execute_result"
    },
    {
     "data": {
      "image/png": "[encoded data removed]",
      "text/plain": [
       "<Figure size 432x288 with 1 Axes>"
      ]
     },
     "metadata": {
      "needs_background": "light"
     },
     "output_type": "display_data"
    }
   ],
   "source": [
    "plt.plot(range(epochs), losses)\n",
    "plt.ylabel(\"Loss\")\n",
    "plt.xlabel(\"Epoch\")"
   ]
  },
  {
   "cell_type": "code",
   "execution_count": 73,
   "id": "daaa7405",
   "metadata": {},
   "outputs": [
    {
     "data": {
      "image/png": "[encoded data removed]",
      "text/plain": [
       "<Figure size 432x288 with 1 Axes>"
      ]
     },
     "metadata": {
      "needs_background": "light"
     },
     "output_type": "display_data"
    }
   ],
   "source": [
    "plot_fit(\"Trained Model\")"
   ]
  },
  {
   "cell_type": "markdown",
   "id": "152ef327",
   "metadata": {},
   "source": [
    "## Summary"
   ]
  },
  {
   "cell_type": "code",
   "execution_count": null,
   "id": "5879f1d8",
   "metadata": {},
   "outputs": [],
   "source": []
  },
  {
   "cell_type": "markdown",
   "id": "699ed04d",
   "metadata": {},
   "source": [
    "# Appendix"
   ]
  },
  {
   "cell_type": "markdown",
   "id": "15496caa",
   "metadata": {},
   "source": [
    "## Gradient Descent"
   ]
  },
  {
   "cell_type": "markdown",
   "id": "ce112595",
   "metadata": {},
   "source": [
    "https://datahacker.rs/003-pytorch-how-to-implement-linear-regression-in-pytorch/"
   ]
  },
  {
   "cell_type": "markdown",
   "id": "86998cb0",
   "metadata": {},
   "source": [
    "![11](https://media5.datahacker.rs/2021/01/157-2048x1206.jpg)"
   ]
  },
  {
   "cell_type": "markdown",
   "id": "45f698a7",
   "metadata": {},
   "source": [
    "![](https://media5.datahacker.rs/2021/01/ezgif.com-gif-maker.gif)"
   ]
  },
  {
   "cell_type": "markdown",
   "id": "2416dee8",
   "metadata": {},
   "source": [
    "## Mean Squared Error"
   ]
  },
  {
   "cell_type": "markdown",
   "id": "5ca84fa3",
   "metadata": {},
   "source": [
    "![aa](https://miro.medium.com/max/1280/1*nhGPRU12caIw7NK5Rr3p-w.gif)"
   ]
  },
  {
   "cell_type": "markdown",
   "id": "87382fbd",
   "metadata": {},
   "source": [
    "![](https://blog.kakaocdn.net/dn/bXwO2x/btrub83d6IJ/YGi4ZTyWxCAcR0vdfW8UYK/img.png)"
   ]
  },
  {
   "cell_type": "code",
   "execution_count": null,
   "id": "d486e9b6",
   "metadata": {},
   "outputs": [],
   "source": []
  }
 ],
 "metadata": {
  "kernelspec": {
   "display_name": "Python 3 (ipykernel)",
   "language": "python",
   "name": "python3"
  },
  "language_info": {
   "codemirror_mode": {
    "name": "ipython",
    "version": 3
   },
   "file_extension": ".py",
   "mimetype": "text/x-python",
   "name": "python",
   "nbconvert_exporter": "python",
   "pygments_lexer": "ipython3",
   "version": "3.8.12"
  }
 },
 "nbformat": 4,
 "nbformat_minor": 5
}
